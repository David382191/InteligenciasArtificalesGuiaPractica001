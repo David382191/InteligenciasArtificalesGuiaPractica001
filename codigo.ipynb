{
 "cells": [
  {
   "cell_type": "code",
   "execution_count": 5,
   "id": "e8152d77",
   "metadata": {},
   "outputs": [],
   "source": [
    "# 1) Importaciones\n",
    "import requests\n",
    "import sqlite3\n",
    "import pandas as pd\n",
    "import plotly.express as px\n",
    "import plotly.graph_objects as go\n",
    "\n",
    "DB_NAME = 'usuarios3.db'\n",
    "url = 'https://jsonplaceholder.typicode.com/users'"
   ]
  },
  {
   "cell_type": "code",
   "execution_count": 6,
   "id": "a1334698",
   "metadata": {},
   "outputs": [
    {
     "name": "stdout",
     "output_type": "stream",
     "text": [
      "Filas recibidas: 10\n"
     ]
    },
    {
     "data": {
      "text/plain": [
       "[{'id': 1,\n",
       "  'name': 'Leanne Graham',\n",
       "  'username': 'Bret',\n",
       "  'email': 'Sincere@april.biz',\n",
       "  'address': {'street': 'Kulas Light',\n",
       "   'suite': 'Apt. 556',\n",
       "   'city': 'Gwenborough',\n",
       "   'zipcode': '92998-3874',\n",
       "   'geo': {'lat': '-37.3159', 'lng': '81.1496'}},\n",
       "  'phone': '1-770-736-8031 x56442',\n",
       "  'website': 'hildegard.org',\n",
       "  'company': {'name': 'Romaguera-Crona',\n",
       "   'catchPhrase': 'Multi-layered client-server neural-net',\n",
       "   'bs': 'harness real-time e-markets'}},\n",
       " {'id': 2,\n",
       "  'name': 'Ervin Howell',\n",
       "  'username': 'Antonette',\n",
       "  'email': 'Shanna@melissa.tv',\n",
       "  'address': {'street': 'Victor Plains',\n",
       "   'suite': 'Suite 879',\n",
       "   'city': 'Wisokyburgh',\n",
       "   'zipcode': '90566-7771',\n",
       "   'geo': {'lat': '-43.9509', 'lng': '-34.4618'}},\n",
       "  'phone': '010-692-6593 x09125',\n",
       "  'website': 'anastasia.net',\n",
       "  'company': {'name': 'Deckow-Crist',\n",
       "   'catchPhrase': 'Proactive didactic contingency',\n",
       "   'bs': 'synergize scalable supply-chains'}}]"
      ]
     },
     "execution_count": 6,
     "metadata": {},
     "output_type": "execute_result"
    }
   ],
   "source": [
    "response = requests.get(url, timeout=20)\n",
    "if response.status_code != 200:\n",
    "    raise SystemExit(f'❌ Error al consumir la API ({response.status_code})')\n",
    "users = response.json()\n",
    "print(f'Filas recibidas: {len(users)}')\n",
    "users[:2]  # vista rápida"
   ]
  },
  {
   "cell_type": "code",
   "execution_count": 7,
   "id": "366bf04d",
   "metadata": {},
   "outputs": [
    {
     "ename": "NameError",
     "evalue": "name 'st' is not defined",
     "output_type": "error",
     "traceback": [
      "\u001b[31m---------------------------------------------------------------------------\u001b[39m",
      "\u001b[31mNameError\u001b[39m                                 Traceback (most recent call last)",
      "\u001b[36mCell\u001b[39m\u001b[36m \u001b[39m\u001b[32mIn[7]\u001b[39m\u001b[32m, line 21\u001b[39m\n\u001b[32m     18\u001b[39m df = pd.concat([df.drop(columns=[\u001b[33m\"\u001b[39m\u001b[33maddress\u001b[39m\u001b[33m\"\u001b[39m, \u001b[33m\"\u001b[39m\u001b[33mcompany\u001b[39m\u001b[33m\"\u001b[39m]), address_df, company_df], axis=\u001b[32m1\u001b[39m)\n\u001b[32m     20\u001b[39m \u001b[38;5;66;03m# --- 3. Mostrar información general ---\u001b[39;00m\n\u001b[32m---> \u001b[39m\u001b[32m21\u001b[39m \u001b[43mst\u001b[49m.subheader(\u001b[33m\"\u001b[39m\u001b[33m📋 Vista general de los datos\u001b[39m\u001b[33m\"\u001b[39m)\n\u001b[32m     22\u001b[39m st.dataframe(df[[\u001b[33m\"\u001b[39m\u001b[33mid\u001b[39m\u001b[33m\"\u001b[39m, \u001b[33m\"\u001b[39m\u001b[33mname\u001b[39m\u001b[33m\"\u001b[39m, \u001b[33m\"\u001b[39m\u001b[33memail\u001b[39m\u001b[33m\"\u001b[39m, \u001b[33m\"\u001b[39m\u001b[33maddress_city\u001b[39m\u001b[33m\"\u001b[39m, \u001b[33m\"\u001b[39m\u001b[33mcompany_name\u001b[39m\u001b[33m\"\u001b[39m]])\n\u001b[32m     24\u001b[39m \u001b[38;5;66;03m# --- 4. Filtros dinámicos reales ---\u001b[39;00m\n",
      "\u001b[31mNameError\u001b[39m: name 'st' is not defined"
     ]
    }
   ],
   "source": [
    "\n",
    "\n",
    "# --- 1. Cargar datos desde la API ---\n",
    "url = \"https://jsonplaceholder.typicode.com/users\"\n",
    "response = requests.get(url)\n",
    "\n",
    "if response.status_code != 200:\n",
    "    st.error(\"❌ No se pudo conectar con la API.\")\n",
    "    st.stop()\n",
    "\n",
    "# Convertir respuesta a DataFrame\n",
    "data = response.json()\n",
    "df = pd.DataFrame(data)\n",
    "\n",
    "# --- 2. Normalizar datos anidados ---\n",
    "address_df = pd.json_normalize(df[\"address\"]).add_prefix(\"address_\")\n",
    "company_df = pd.json_normalize(df[\"company\"]).add_prefix(\"company_\")\n",
    "\n",
    "# Combinar todo en un solo DataFrame limpio\n",
    "df = pd.concat([df.drop(columns=[\"address\", \"company\"]), address_df, company_df], axis=1)\n",
    "\n",
    "# --- 3. Mostrar información general ---\n",
    "st.subheader(\"📋 Vista general de los datos\")\n",
    "st.dataframe(df[[\"id\", \"name\", \"email\", \"address_city\", \"company_name\"]])\n",
    "\n",
    "# --- 4. Filtros dinámicos reales ---\n",
    "st.sidebar.header(\"🎛️ Filtros\")\n",
    "\n",
    "# Filtro por ciudad\n",
    "cities = [\"Todas\"] + sorted(df[\"address_city\"].unique().tolist())\n",
    "selected_city = st.sidebar.selectbox(\"Ciudad\", cities)\n",
    "\n",
    "# Filtro por empresa\n",
    "companies = [\"Todas\"] + sorted(df[\"company_name\"].unique().tolist())\n",
    "selected_company = st.sidebar.selectbox(\"Empresa\", companies)\n",
    "\n",
    "# Filtro por nombre (búsqueda parcial)\n",
    "search_name = st.sidebar.text_input(\"Buscar por nombre\")\n",
    "\n",
    "# --- 5. Aplicar filtros ---\n",
    "filtered_df = df.copy()\n",
    "\n",
    "if selected_city != \"Todas\":\n",
    "    filtered_df = filtered_df[filtered_df[\"address_city\"] == selected_city]\n",
    "if selected_company != \"Todas\":\n",
    "    filtered_df = filtered_df[filtered_df[\"company_name\"] == selected_company]\n",
    "if search_name:\n",
    "    filtered_df = filtered_df[filtered_df[\"name\"].str.contains(search_name, case=False, na=False)]\n",
    "\n",
    "# --- 6. Mostrar resultados filtrados ---\n",
    "st.subheader(\"🔍 Resultados filtrados\")\n",
    "st.write(f\"**Total de usuarios encontrados:** {len(filtered_df)}\")\n",
    "st.dataframe(filtered_df[[\"id\", \"name\", \"email\", \"address_city\", \"company_name\"]])\n",
    "\n",
    "# --- 7. Gráfico simple ---\n",
    "st.subheader(\"📊 Usuarios por ciudad\")\n",
    "if not filtered_df.empty:\n",
    "    st.bar_chart(filtered_df[\"address_city\"].value_counts())\n",
    "else:\n",
    "    st.warning(\"No se encontraron usuarios con los filtros aplicados.\")\n",
    "\n",
    "\n",
    "#-----------------Bien, Robereto, ignoremos las ganas que tengo que decirte negro y vamos acpá.\n"
   ]
  }
 ],
 "metadata": {
  "kernelspec": {
   "display_name": "base",
   "language": "python",
   "name": "python3"
  },
  "language_info": {
   "codemirror_mode": {
    "name": "ipython",
    "version": 3
   },
   "file_extension": ".py",
   "mimetype": "text/x-python",
   "name": "python",
   "nbconvert_exporter": "python",
   "pygments_lexer": "ipython3",
   "version": "3.13.5"
  }
 },
 "nbformat": 4,
 "nbformat_minor": 5
}
